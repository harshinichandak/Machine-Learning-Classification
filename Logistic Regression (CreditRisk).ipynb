{
 "cells": [
  {
   "cell_type": "code",
   "execution_count": 2,
   "id": "2232f7ff",
   "metadata": {},
   "outputs": [],
   "source": [
    "import pandas as pd"
   ]
  },
  {
   "cell_type": "code",
   "execution_count": 3,
   "id": "d16cc7b8",
   "metadata": {},
   "outputs": [],
   "source": [
    "cr = pd.read_csv(r\"D:\\Datasets\\CreditRisk.csv\")"
   ]
  },
  {
   "cell_type": "code",
   "execution_count": 4,
   "id": "082369f5",
   "metadata": {},
   "outputs": [
    {
     "data": {
      "text/html": [
       "<div>\n",
       "<style scoped>\n",
       "    .dataframe tbody tr th:only-of-type {\n",
       "        vertical-align: middle;\n",
       "    }\n",
       "\n",
       "    .dataframe tbody tr th {\n",
       "        vertical-align: top;\n",
       "    }\n",
       "\n",
       "    .dataframe thead th {\n",
       "        text-align: right;\n",
       "    }\n",
       "</style>\n",
       "<table border=\"1\" class=\"dataframe\">\n",
       "  <thead>\n",
       "    <tr style=\"text-align: right;\">\n",
       "      <th></th>\n",
       "      <th>Loan_ID</th>\n",
       "      <th>Gender</th>\n",
       "      <th>Married</th>\n",
       "      <th>Dependents</th>\n",
       "      <th>Education</th>\n",
       "      <th>Self_Employed</th>\n",
       "      <th>ApplicantIncome</th>\n",
       "      <th>CoapplicantIncome</th>\n",
       "      <th>LoanAmount</th>\n",
       "      <th>Loan_Amount_Term</th>\n",
       "      <th>Credit_History</th>\n",
       "      <th>Property_Area</th>\n",
       "      <th>Loan_Status</th>\n",
       "    </tr>\n",
       "  </thead>\n",
       "  <tbody>\n",
       "    <tr>\n",
       "      <th>0</th>\n",
       "      <td>LP001002</td>\n",
       "      <td>Male</td>\n",
       "      <td>No</td>\n",
       "      <td>0.0</td>\n",
       "      <td>Graduate</td>\n",
       "      <td>No</td>\n",
       "      <td>5849</td>\n",
       "      <td>0.0</td>\n",
       "      <td>NaN</td>\n",
       "      <td>360.0</td>\n",
       "      <td>1.0</td>\n",
       "      <td>Urban</td>\n",
       "      <td>Y</td>\n",
       "    </tr>\n",
       "    <tr>\n",
       "      <th>1</th>\n",
       "      <td>LP001003</td>\n",
       "      <td>Male</td>\n",
       "      <td>Yes</td>\n",
       "      <td>1.0</td>\n",
       "      <td>Graduate</td>\n",
       "      <td>No</td>\n",
       "      <td>4583</td>\n",
       "      <td>1508.0</td>\n",
       "      <td>128.0</td>\n",
       "      <td>360.0</td>\n",
       "      <td>1.0</td>\n",
       "      <td>Rural</td>\n",
       "      <td>N</td>\n",
       "    </tr>\n",
       "    <tr>\n",
       "      <th>2</th>\n",
       "      <td>LP001005</td>\n",
       "      <td>Male</td>\n",
       "      <td>Yes</td>\n",
       "      <td>0.0</td>\n",
       "      <td>Graduate</td>\n",
       "      <td>Yes</td>\n",
       "      <td>3000</td>\n",
       "      <td>0.0</td>\n",
       "      <td>66.0</td>\n",
       "      <td>360.0</td>\n",
       "      <td>1.0</td>\n",
       "      <td>Urban</td>\n",
       "      <td>Y</td>\n",
       "    </tr>\n",
       "    <tr>\n",
       "      <th>3</th>\n",
       "      <td>LP001006</td>\n",
       "      <td>Male</td>\n",
       "      <td>Yes</td>\n",
       "      <td>0.0</td>\n",
       "      <td>Not Graduate</td>\n",
       "      <td>No</td>\n",
       "      <td>2583</td>\n",
       "      <td>2358.0</td>\n",
       "      <td>120.0</td>\n",
       "      <td>360.0</td>\n",
       "      <td>1.0</td>\n",
       "      <td>Urban</td>\n",
       "      <td>Y</td>\n",
       "    </tr>\n",
       "    <tr>\n",
       "      <th>4</th>\n",
       "      <td>LP001008</td>\n",
       "      <td>Male</td>\n",
       "      <td>No</td>\n",
       "      <td>0.0</td>\n",
       "      <td>Graduate</td>\n",
       "      <td>No</td>\n",
       "      <td>6000</td>\n",
       "      <td>0.0</td>\n",
       "      <td>141.0</td>\n",
       "      <td>360.0</td>\n",
       "      <td>1.0</td>\n",
       "      <td>Urban</td>\n",
       "      <td>Y</td>\n",
       "    </tr>\n",
       "  </tbody>\n",
       "</table>\n",
       "</div>"
      ],
      "text/plain": [
       "    Loan_ID Gender Married  Dependents     Education Self_Employed  \\\n",
       "0  LP001002   Male      No         0.0      Graduate            No   \n",
       "1  LP001003   Male     Yes         1.0      Graduate            No   \n",
       "2  LP001005   Male     Yes         0.0      Graduate           Yes   \n",
       "3  LP001006   Male     Yes         0.0  Not Graduate            No   \n",
       "4  LP001008   Male      No         0.0      Graduate            No   \n",
       "\n",
       "   ApplicantIncome  CoapplicantIncome  LoanAmount  Loan_Amount_Term  \\\n",
       "0             5849                0.0         NaN             360.0   \n",
       "1             4583             1508.0       128.0             360.0   \n",
       "2             3000                0.0        66.0             360.0   \n",
       "3             2583             2358.0       120.0             360.0   \n",
       "4             6000                0.0       141.0             360.0   \n",
       "\n",
       "   Credit_History Property_Area Loan_Status  \n",
       "0             1.0         Urban           Y  \n",
       "1             1.0         Rural           N  \n",
       "2             1.0         Urban           Y  \n",
       "3             1.0         Urban           Y  \n",
       "4             1.0         Urban           Y  "
      ]
     },
     "execution_count": 4,
     "metadata": {},
     "output_type": "execute_result"
    }
   ],
   "source": [
    "cr.head()"
   ]
  },
  {
   "cell_type": "code",
   "execution_count": 5,
   "id": "cda1af2c",
   "metadata": {},
   "outputs": [],
   "source": [
    "#  PS1 :   build the predictive model which can be used by the bank to approve or reject the loan( Loan_status)\n",
    "#  PS2 :   use the model to run a campign for targeting the good customers ( you may wish to offer new loans) "
   ]
  },
  {
   "cell_type": "code",
   "execution_count": 6,
   "id": "79055e02",
   "metadata": {},
   "outputs": [],
   "source": [
    "# data cleaning"
   ]
  },
  {
   "cell_type": "code",
   "execution_count": 7,
   "id": "3ff1f3be",
   "metadata": {},
   "outputs": [
    {
     "data": {
      "text/plain": [
       "Loan_ID               0\n",
       "Gender               24\n",
       "Married               3\n",
       "Dependents           25\n",
       "Education             0\n",
       "Self_Employed        55\n",
       "ApplicantIncome       0\n",
       "CoapplicantIncome     0\n",
       "LoanAmount           27\n",
       "Loan_Amount_Term     20\n",
       "Credit_History       79\n",
       "Property_Area         0\n",
       "Loan_Status           0\n",
       "dtype: int64"
      ]
     },
     "execution_count": 7,
     "metadata": {},
     "output_type": "execute_result"
    }
   ],
   "source": [
    "cr.isnull().sum()"
   ]
  },
  {
   "cell_type": "code",
   "execution_count": 8,
   "id": "4bcc34cd",
   "metadata": {},
   "outputs": [],
   "source": [
    "cr.Gender              = cr.Gender.fillna('Male')\n",
    "cr.Married             = cr.Married .fillna('No')\n",
    "cr.Dependents          = cr.Dependents.fillna(0)\n",
    "cr.Self_Employed       = cr.Self_Employed .fillna('No')\n",
    "cr.LoanAmount          = cr.LoanAmount.fillna(cr.LoanAmount.mean())\n",
    "cr.Loan_Amount_Term    = cr.Loan_Amount_Term.fillna(cr.Loan_Amount_Term.mean())\n",
    "cr.Credit_History      = cr.Credit_History.fillna(0)"
   ]
  },
  {
   "cell_type": "code",
   "execution_count": 9,
   "id": "fdf4c0f9",
   "metadata": {},
   "outputs": [
    {
     "name": "stdout",
     "output_type": "stream",
     "text": [
      "<class 'pandas.core.frame.DataFrame'>\n",
      "RangeIndex: 981 entries, 0 to 980\n",
      "Data columns (total 13 columns):\n",
      " #   Column             Non-Null Count  Dtype  \n",
      "---  ------             --------------  -----  \n",
      " 0   Loan_ID            981 non-null    object \n",
      " 1   Gender             981 non-null    object \n",
      " 2   Married            981 non-null    object \n",
      " 3   Dependents         981 non-null    float64\n",
      " 4   Education          981 non-null    object \n",
      " 5   Self_Employed      981 non-null    object \n",
      " 6   ApplicantIncome    981 non-null    int64  \n",
      " 7   CoapplicantIncome  981 non-null    float64\n",
      " 8   LoanAmount         981 non-null    float64\n",
      " 9   Loan_Amount_Term   981 non-null    float64\n",
      " 10  Credit_History     981 non-null    float64\n",
      " 11  Property_Area      981 non-null    object \n",
      " 12  Loan_Status        981 non-null    object \n",
      "dtypes: float64(5), int64(1), object(7)\n",
      "memory usage: 99.8+ KB\n"
     ]
    }
   ],
   "source": [
    "cr.info()"
   ]
  },
  {
   "cell_type": "code",
   "execution_count": 10,
   "id": "1fe2251e",
   "metadata": {},
   "outputs": [],
   "source": [
    "cr  = cr.drop(['Loan_ID'], axis = 1)"
   ]
  },
  {
   "cell_type": "code",
   "execution_count": 11,
   "id": "8255fec4",
   "metadata": {},
   "outputs": [],
   "source": [
    "cr.Gender  = cr.Gender.replace({'Male': 1, 'Female': 0})\n",
    "cr.Married  = cr.Married.replace({'Yes' : 1, 'No':0 })\n",
    "cr.Education  = cr.Education.replace({'Graduate':1 , 'Not Graduate': 0})\n",
    "cr.Self_Employed  = cr.Self_Employed.replace({'Yes' : 1, 'No':0 })\n",
    "cr.Property_Area  =cr.Property_Area .replace({'Rural':0 , 'Semiurban': 1 , 'Urban': 2})\n",
    "cr.Loan_Status   = cr.Loan_Status.replace({ 'Y': 1 , 'N': 0})"
   ]
  },
  {
   "cell_type": "code",
   "execution_count": 12,
   "id": "f7e29535",
   "metadata": {},
   "outputs": [],
   "source": [
    "from sklearn.model_selection  import train_test_split\n",
    "\n",
    "cr_train , cr_test = train_test_split(cr , test_size=  .2)"
   ]
  },
  {
   "cell_type": "code",
   "execution_count": 13,
   "id": "d017f3fa",
   "metadata": {},
   "outputs": [],
   "source": [
    "cr_train_x   =   cr_train.iloc[: , 0:-1]\n",
    "cr_train_y   = cr_train.iloc[: , -1]\n",
    "\n",
    "cr_test_x  =    cr_test.iloc[: , 0:-1]\n",
    "cr_test_y  =   cr_test.iloc[: , -1]"
   ]
  },
  {
   "cell_type": "code",
   "execution_count": 14,
   "id": "54315085",
   "metadata": {},
   "outputs": [],
   "source": [
    "#  model building"
   ]
  },
  {
   "cell_type": "code",
   "execution_count": 15,
   "id": "b41f6a2d",
   "metadata": {},
   "outputs": [],
   "source": [
    "from  sklearn.linear_model  import LogisticRegression\n",
    "glm  = LogisticRegression()"
   ]
  },
  {
   "cell_type": "code",
   "execution_count": 16,
   "id": "acb974f3",
   "metadata": {},
   "outputs": [
    {
     "name": "stderr",
     "output_type": "stream",
     "text": [
      "C:\\ProgramData\\Anaconda3\\lib\\site-packages\\sklearn\\linear_model\\_logistic.py:763: ConvergenceWarning: lbfgs failed to converge (status=1):\n",
      "STOP: TOTAL NO. of ITERATIONS REACHED LIMIT.\n",
      "\n",
      "Increase the number of iterations (max_iter) or scale the data as shown in:\n",
      "    https://scikit-learn.org/stable/modules/preprocessing.html\n",
      "Please also refer to the documentation for alternative solver options:\n",
      "    https://scikit-learn.org/stable/modules/linear_model.html#logistic-regression\n",
      "  n_iter_i = _check_optimize_result(\n"
     ]
    },
    {
     "data": {
      "text/plain": [
       "LogisticRegression()"
      ]
     },
     "execution_count": 16,
     "metadata": {},
     "output_type": "execute_result"
    }
   ],
   "source": [
    "glm.fit(cr_train_x , cr_train_y)"
   ]
  },
  {
   "cell_type": "code",
   "execution_count": 17,
   "id": "5ba22558",
   "metadata": {},
   "outputs": [
    {
     "data": {
      "text/plain": [
       "array([1, 1, 1, 1, 1, 1, 0, 1, 1, 1, 1, 1, 0, 0, 1, 1, 0, 1, 1, 0, 1, 1,\n",
       "       0, 1, 0, 1, 1, 1, 1, 1, 1, 1, 1, 1, 1, 1, 1, 0, 1, 1, 1, 0, 1, 0,\n",
       "       1, 0, 1, 1, 1, 1, 1, 1, 0, 0, 1, 1, 1, 1, 1, 1, 1, 1, 1, 1, 0, 1,\n",
       "       0, 1, 1, 1, 0, 0, 1, 1, 1, 1, 1, 0, 1, 0, 1, 1, 1, 1, 0, 1, 1, 1,\n",
       "       0, 1, 0, 1, 1, 1, 1, 1, 1, 1, 0, 1, 1, 1, 1, 1, 1, 0, 1, 0, 0, 1,\n",
       "       1, 0, 1, 0, 1, 1, 1, 1, 1, 1, 1, 1, 0, 0, 1, 1, 1, 1, 1, 1, 1, 1,\n",
       "       1, 1, 1, 1, 0, 0, 0, 0, 1, 1, 1, 0, 1, 1, 1, 1, 1, 1, 0, 1, 1, 1,\n",
       "       1, 1, 1, 1, 1, 0, 1, 1, 1, 1, 0, 1, 1, 1, 1, 1, 1, 1, 1, 0, 1, 1,\n",
       "       1, 0, 1, 1, 0, 0, 1, 1, 0, 1, 1, 1, 1, 1, 1, 1, 1, 1, 1, 1, 1],\n",
       "      dtype=int64)"
      ]
     },
     "execution_count": 17,
     "metadata": {},
     "output_type": "execute_result"
    }
   ],
   "source": [
    "pred_cr = glm.predict(cr_test_x)\n",
    "pred_cr"
   ]
  },
  {
   "cell_type": "code",
   "execution_count": 18,
   "id": "726d3199",
   "metadata": {},
   "outputs": [],
   "source": [
    "from sklearn.metrics  import confusion_matrix"
   ]
  },
  {
   "cell_type": "code",
   "execution_count": 19,
   "id": "1a5e40a6",
   "metadata": {},
   "outputs": [
    {
     "data": {
      "text/plain": [
       "array([[ 33,  24],\n",
       "       [ 10, 130]], dtype=int64)"
      ]
     },
     "execution_count": 19,
     "metadata": {},
     "output_type": "execute_result"
    }
   ],
   "source": [
    "tab_cr  = confusion_matrix(cr_test_y , pred_cr)\n",
    "tab_cr"
   ]
  },
  {
   "cell_type": "code",
   "execution_count": 20,
   "id": "45a4a558",
   "metadata": {},
   "outputs": [
    {
     "data": {
      "text/plain": [
       "82.74111675126903"
      ]
     },
     "execution_count": 20,
     "metadata": {},
     "output_type": "execute_result"
    }
   ],
   "source": [
    " tab_cr.diagonal().sum()  * 100/ tab_cr.sum()"
   ]
  },
  {
   "cell_type": "code",
   "execution_count": 21,
   "id": "7e7d9c90",
   "metadata": {},
   "outputs": [],
   "source": [
    "from sklearn.metrics  import accuracy_score"
   ]
  },
  {
   "cell_type": "code",
   "execution_count": 22,
   "id": "bdc13966",
   "metadata": {},
   "outputs": [
    {
     "data": {
      "text/plain": [
       "0.8274111675126904"
      ]
     },
     "execution_count": 22,
     "metadata": {},
     "output_type": "execute_result"
    }
   ],
   "source": [
    "accuracy_score(cr_test_y , pred_cr)"
   ]
  },
  {
   "cell_type": "code",
   "execution_count": 23,
   "id": "53e0095d",
   "metadata": {},
   "outputs": [],
   "source": [
    "from sklearn.metrics  import precision_score"
   ]
  },
  {
   "cell_type": "code",
   "execution_count": 24,
   "id": "30e366ec",
   "metadata": {},
   "outputs": [
    {
     "data": {
      "text/plain": [
       "0.8282208588957055"
      ]
     },
     "execution_count": 24,
     "metadata": {},
     "output_type": "execute_result"
    }
   ],
   "source": [
    "135 / ( 135 +28)"
   ]
  },
  {
   "cell_type": "code",
   "execution_count": 25,
   "id": "f3564f96",
   "metadata": {},
   "outputs": [
    {
     "data": {
      "text/plain": [
       "0.8441558441558441"
      ]
     },
     "execution_count": 25,
     "metadata": {},
     "output_type": "execute_result"
    }
   ],
   "source": [
    "precision_score(cr_test_y , pred_cr)"
   ]
  },
  {
   "cell_type": "code",
   "execution_count": 26,
   "id": "47e0ae6c",
   "metadata": {},
   "outputs": [],
   "source": [
    "t"
   ]
  },
  {
   "cell_type": "code",
   "execution_count": 27,
   "id": "a7416b50",
   "metadata": {},
   "outputs": [
    {
     "data": {
      "text/plain": [
       "0.9375"
      ]
     },
     "execution_count": 27,
     "metadata": {},
     "output_type": "execute_result"
    }
   ],
   "source": [
    "135 / ( 135 + 9)"
   ]
  },
  {
   "cell_type": "code",
   "execution_count": 28,
   "id": "6da0f408",
   "metadata": {},
   "outputs": [
    {
     "data": {
      "text/plain": [
       "0.9285714285714286"
      ]
     },
     "execution_count": 28,
     "metadata": {},
     "output_type": "execute_result"
    }
   ],
   "source": [
    "recall_score(cr_test_y , pred_cr)"
   ]
  },
  {
   "cell_type": "code",
   "execution_count": 29,
   "id": "004dabdf",
   "metadata": {},
   "outputs": [],
   "source": [
    "from sklearn.metrics  import f1_score"
   ]
  },
  {
   "cell_type": "code",
   "execution_count": 30,
   "id": "5c777b95",
   "metadata": {},
   "outputs": [
    {
     "data": {
      "text/plain": [
       "0.8843537414965986"
      ]
     },
     "execution_count": 30,
     "metadata": {},
     "output_type": "execute_result"
    }
   ],
   "source": [
    "f1_score(cr_test_y , pred_cr)"
   ]
  },
  {
   "cell_type": "code",
   "execution_count": 31,
   "id": "c031c132",
   "metadata": {},
   "outputs": [
    {
     "data": {
      "text/plain": [
       "0.8794788273615635"
      ]
     },
     "execution_count": 31,
     "metadata": {},
     "output_type": "execute_result"
    }
   ],
   "source": [
    " 2* .8282208588957055  *  .9375  / ( .8282208588957055  + .9375)"
   ]
  },
  {
   "cell_type": "code",
   "execution_count": 32,
   "id": "7276f8d7",
   "metadata": {},
   "outputs": [
    {
     "data": {
      "text/plain": [
       "array([[0.10199108, 0.89800892],\n",
       "       [0.08765138, 0.91234862],\n",
       "       [0.23228548, 0.76771452],\n",
       "       [0.113673  , 0.886327  ],\n",
       "       [0.26507669, 0.73492331],\n",
       "       [0.07249055, 0.92750945],\n",
       "       [0.50214974, 0.49785026],\n",
       "       [0.15650107, 0.84349893],\n",
       "       [0.15148732, 0.84851268],\n",
       "       [0.18142041, 0.81857959],\n",
       "       [0.1639208 , 0.8360792 ],\n",
       "       [0.04262427, 0.95737573],\n",
       "       [0.509054  , 0.490946  ],\n",
       "       [0.50752443, 0.49247557],\n",
       "       [0.10191381, 0.89808619],\n",
       "       [0.14400731, 0.85599269],\n",
       "       [0.86438879, 0.13561121],\n",
       "       [0.36266963, 0.63733037],\n",
       "       [0.20858991, 0.79141009],\n",
       "       [0.66949002, 0.33050998],\n",
       "       [0.16213612, 0.83786388],\n",
       "       [0.14084663, 0.85915337],\n",
       "       [0.61122296, 0.38877704],\n",
       "       [0.09053649, 0.90946351],\n",
       "       [0.66518292, 0.33481708],\n",
       "       [0.16173585, 0.83826415],\n",
       "       [0.0579809 , 0.9420191 ],\n",
       "       [0.30355225, 0.69644775],\n",
       "       [0.17014099, 0.82985901],\n",
       "       [0.3388535 , 0.6611465 ],\n",
       "       [0.09971236, 0.90028764],\n",
       "       [0.1659398 , 0.8340602 ],\n",
       "       [0.09830133, 0.90169867],\n",
       "       [0.16277394, 0.83722606],\n",
       "       [0.13453908, 0.86546092],\n",
       "       [0.12330723, 0.87669277],\n",
       "       [0.15045736, 0.84954264],\n",
       "       [0.62922001, 0.37077999],\n",
       "       [0.1223583 , 0.8776417 ],\n",
       "       [0.11413189, 0.88586811],\n",
       "       [0.30202322, 0.69797678],\n",
       "       [0.69141853, 0.30858147],\n",
       "       [0.240877  , 0.759123  ],\n",
       "       [0.57483813, 0.42516187],\n",
       "       [0.21794288, 0.78205712],\n",
       "       [0.73251958, 0.26748042],\n",
       "       [0.10562148, 0.89437852],\n",
       "       [0.10661218, 0.89338782],\n",
       "       [0.33023179, 0.66976821],\n",
       "       [0.37908733, 0.62091267],\n",
       "       [0.1076075 , 0.8923925 ],\n",
       "       [0.0936876 , 0.9063124 ],\n",
       "       [0.74338753, 0.25661247],\n",
       "       [0.57852788, 0.42147212],\n",
       "       [0.10994014, 0.89005986],\n",
       "       [0.3658699 , 0.6341301 ],\n",
       "       [0.20097093, 0.79902907],\n",
       "       [0.1182906 , 0.8817094 ],\n",
       "       [0.17525408, 0.82474592],\n",
       "       [0.21856022, 0.78143978],\n",
       "       [0.39384666, 0.60615334],\n",
       "       [0.15252494, 0.84747506],\n",
       "       [0.20848846, 0.79151154],\n",
       "       [0.12888268, 0.87111732],\n",
       "       [0.53069517, 0.46930483],\n",
       "       [0.29828709, 0.70171291],\n",
       "       [0.68000096, 0.31999904],\n",
       "       [0.4347064 , 0.5652936 ],\n",
       "       [0.14327358, 0.85672642],\n",
       "       [0.08902017, 0.91097983],\n",
       "       [0.50305224, 0.49694776],\n",
       "       [0.66146891, 0.33853109],\n",
       "       [0.1546234 , 0.8453766 ],\n",
       "       [0.19333272, 0.80666728],\n",
       "       [0.13513369, 0.86486631],\n",
       "       [0.17745542, 0.82254458],\n",
       "       [0.04308336, 0.95691664],\n",
       "       [0.69211772, 0.30788228],\n",
       "       [0.05746738, 0.94253262],\n",
       "       [0.62541795, 0.37458205],\n",
       "       [0.21646412, 0.78353588],\n",
       "       [0.15096031, 0.84903969],\n",
       "       [0.31005301, 0.68994699],\n",
       "       [0.24006154, 0.75993846],\n",
       "       [0.50464642, 0.49535358],\n",
       "       [0.28350553, 0.71649447],\n",
       "       [0.15861191, 0.84138809],\n",
       "       [0.33654897, 0.66345103],\n",
       "       [0.6929405 , 0.3070595 ],\n",
       "       [0.09384527, 0.90615473],\n",
       "       [0.51986141, 0.48013859],\n",
       "       [0.19781725, 0.80218275],\n",
       "       [0.13757314, 0.86242686],\n",
       "       [0.46278426, 0.53721574],\n",
       "       [0.20843992, 0.79156008],\n",
       "       [0.37816395, 0.62183605],\n",
       "       [0.17204332, 0.82795668],\n",
       "       [0.27872423, 0.72127577],\n",
       "       [0.81474327, 0.18525673],\n",
       "       [0.12181667, 0.87818333],\n",
       "       [0.13982175, 0.86017825],\n",
       "       [0.16383367, 0.83616633],\n",
       "       [0.15207548, 0.84792452],\n",
       "       [0.07295067, 0.92704933],\n",
       "       [0.17317895, 0.82682105],\n",
       "       [0.64465319, 0.35534681],\n",
       "       [0.24546039, 0.75453961],\n",
       "       [0.55187511, 0.44812489],\n",
       "       [0.59661412, 0.40338588],\n",
       "       [0.24928707, 0.75071293],\n",
       "       [0.03795821, 0.96204179],\n",
       "       [0.75223462, 0.24776538],\n",
       "       [0.06365518, 0.93634482],\n",
       "       [0.7427377 , 0.2572623 ],\n",
       "       [0.29492099, 0.70507901],\n",
       "       [0.09175131, 0.90824869],\n",
       "       [0.20171645, 0.79828355],\n",
       "       [0.13243044, 0.86756956],\n",
       "       [0.25672662, 0.74327338],\n",
       "       [0.15133916, 0.84866084],\n",
       "       [0.19528135, 0.80471865],\n",
       "       [0.14802015, 0.85197985],\n",
       "       [0.62146384, 0.37853616],\n",
       "       [0.62883833, 0.37116167],\n",
       "       [0.13873913, 0.86126087],\n",
       "       [0.44717768, 0.55282232],\n",
       "       [0.12350911, 0.87649089],\n",
       "       [0.10870948, 0.89129052],\n",
       "       [0.13553482, 0.86446518],\n",
       "       [0.16405283, 0.83594717],\n",
       "       [0.17098249, 0.82901751],\n",
       "       [0.16552263, 0.83447737],\n",
       "       [0.15616331, 0.84383669],\n",
       "       [0.21223444, 0.78776556],\n",
       "       [0.20229636, 0.79770364],\n",
       "       [0.24493123, 0.75506877],\n",
       "       [0.61791209, 0.38208791],\n",
       "       [0.64328083, 0.35671917],\n",
       "       [0.72562268, 0.27437732],\n",
       "       [0.65046905, 0.34953095],\n",
       "       [0.23939745, 0.76060255],\n",
       "       [0.1966453 , 0.8033547 ],\n",
       "       [0.14205611, 0.85794389],\n",
       "       [0.57384402, 0.42615598],\n",
       "       [0.26088769, 0.73911231],\n",
       "       [0.18776004, 0.81223996],\n",
       "       [0.10263264, 0.89736736],\n",
       "       [0.14004879, 0.85995121],\n",
       "       [0.08839363, 0.91160637],\n",
       "       [0.16694608, 0.83305392],\n",
       "       [0.73944409, 0.26055591],\n",
       "       [0.26446387, 0.73553613],\n",
       "       [0.1386204 , 0.8613796 ],\n",
       "       [0.20068018, 0.79931982],\n",
       "       [0.12368429, 0.87631571],\n",
       "       [0.2204905 , 0.7795095 ],\n",
       "       [0.12079813, 0.87920187],\n",
       "       [0.32734962, 0.67265038],\n",
       "       [0.29909823, 0.70090177],\n",
       "       [0.50132391, 0.49867609],\n",
       "       [0.0868147 , 0.9131853 ],\n",
       "       [0.17541176, 0.82458824],\n",
       "       [0.30218712, 0.69781288],\n",
       "       [0.15838494, 0.84161506],\n",
       "       [0.63486189, 0.36513811],\n",
       "       [0.10827019, 0.89172981],\n",
       "       [0.17808079, 0.82191921],\n",
       "       [0.11702938, 0.88297062],\n",
       "       [0.13112204, 0.86887796],\n",
       "       [0.11609438, 0.88390562],\n",
       "       [0.07289656, 0.92710344],\n",
       "       [0.12223982, 0.87776018],\n",
       "       [0.1277679 , 0.8722321 ],\n",
       "       [0.61070235, 0.38929765],\n",
       "       [0.14279968, 0.85720032],\n",
       "       [0.19074187, 0.80925813],\n",
       "       [0.17065943, 0.82934057],\n",
       "       [0.75776104, 0.24223896],\n",
       "       [0.26020933, 0.73979067],\n",
       "       [0.47931311, 0.52068689],\n",
       "       [0.50647845, 0.49352155],\n",
       "       [0.65975457, 0.34024543],\n",
       "       [0.06963643, 0.93036357],\n",
       "       [0.29126171, 0.70873829],\n",
       "       [0.71469815, 0.28530185],\n",
       "       [0.23071063, 0.76928937],\n",
       "       [0.49989811, 0.50010189],\n",
       "       [0.19027448, 0.80972552],\n",
       "       [0.09560052, 0.90439948],\n",
       "       [0.10883798, 0.89116202],\n",
       "       [0.11581885, 0.88418115],\n",
       "       [0.09323545, 0.90676455],\n",
       "       [0.11582112, 0.88417888],\n",
       "       [0.07994849, 0.92005151],\n",
       "       [0.13937129, 0.86062871],\n",
       "       [0.1156524 , 0.8843476 ],\n",
       "       [0.12235784, 0.87764216]])"
      ]
     },
     "execution_count": 32,
     "metadata": {},
     "output_type": "execute_result"
    }
   ],
   "source": [
    "glm.predict_proba(cr_test_x)"
   ]
  },
  {
   "cell_type": "code",
   "execution_count": 33,
   "id": "15462a7c",
   "metadata": {},
   "outputs": [
    {
     "data": {
      "text/plain": [
       "197"
      ]
     },
     "execution_count": 33,
     "metadata": {},
     "output_type": "execute_result"
    }
   ],
   "source": [
    "len(glm.predict_proba(cr_test_x))"
   ]
  },
  {
   "cell_type": "code",
   "execution_count": 34,
   "id": "20e66a42",
   "metadata": {},
   "outputs": [
    {
     "data": {
      "text/plain": [
       "(197, 11)"
      ]
     },
     "execution_count": 34,
     "metadata": {},
     "output_type": "execute_result"
    }
   ],
   "source": [
    "cr_test_x.shape"
   ]
  },
  {
   "cell_type": "code",
   "execution_count": 35,
   "id": "c2483964",
   "metadata": {},
   "outputs": [
    {
     "data": {
      "text/plain": [
       "1.0"
      ]
     },
     "execution_count": 35,
     "metadata": {},
     "output_type": "execute_result"
    }
   ],
   "source": [
    ".50830073 + 0.49169927"
   ]
  },
  {
   "cell_type": "code",
   "execution_count": 36,
   "id": "f24ad97c",
   "metadata": {},
   "outputs": [
    {
     "data": {
      "text/plain": [
       "1.0"
      ]
     },
     "execution_count": 36,
     "metadata": {},
     "output_type": "execute_result"
    }
   ],
   "source": [
    ".57762386 +0.42237614"
   ]
  },
  {
   "cell_type": "code",
   "execution_count": 37,
   "id": "a2cff01d",
   "metadata": {},
   "outputs": [],
   "source": [
    "pred_cr = glm.predict(cr_test_x)  # preiction in classes\n",
    "#pred_cr"
   ]
  },
  {
   "cell_type": "code",
   "execution_count": 38,
   "id": "e0c551f4",
   "metadata": {},
   "outputs": [],
   "source": [
    "pred_prob =glm.predict_proba(cr_test_x)\n",
    "#pred_prob"
   ]
  },
  {
   "cell_type": "code",
   "execution_count": 39,
   "id": "67c4ac45",
   "metadata": {},
   "outputs": [],
   "source": [
    "#pred_prob[: , 1]"
   ]
  },
  {
   "cell_type": "code",
   "execution_count": 40,
   "id": "43e3d10b",
   "metadata": {},
   "outputs": [],
   "source": [
    "from sklearn.metrics   import  roc_auc_score\n",
    "from sklearn.metrics   import  roc_curve"
   ]
  },
  {
   "cell_type": "code",
   "execution_count": 41,
   "id": "7f163e86",
   "metadata": {},
   "outputs": [
    {
     "data": {
      "text/plain": [
       "0.7537593984962406"
      ]
     },
     "execution_count": 41,
     "metadata": {},
     "output_type": "execute_result"
    }
   ],
   "source": [
    "roc_auc_score(cr_test_y, pred_cr)  # area under the curve value "
   ]
  },
  {
   "cell_type": "code",
   "execution_count": 42,
   "id": "5cb860c5",
   "metadata": {},
   "outputs": [],
   "source": [
    " fpr , tpr ,threshold  = roc_curve(cr_test_y  , pred_prob[: , 1])"
   ]
  },
  {
   "cell_type": "code",
   "execution_count": 43,
   "id": "8e48cdb6",
   "metadata": {},
   "outputs": [],
   "source": [
    "#fpr"
   ]
  },
  {
   "cell_type": "code",
   "execution_count": 44,
   "id": "21f78788",
   "metadata": {},
   "outputs": [],
   "source": [
    "#tpr"
   ]
  },
  {
   "cell_type": "code",
   "execution_count": 45,
   "id": "ec07f9d5",
   "metadata": {},
   "outputs": [],
   "source": [
    "import matplotlib.pyplot  as plt"
   ]
  },
  {
   "cell_type": "code",
   "execution_count": 46,
   "id": "961fcf1c",
   "metadata": {},
   "outputs": [
    {
     "data": {
      "text/plain": [
       "0.7537593984962406"
      ]
     },
     "execution_count": 46,
     "metadata": {},
     "output_type": "execute_result"
    }
   ],
   "source": [
    "Area = roc_auc_score(cr_test_y, pred_cr)\n",
    "Area "
   ]
  },
  {
   "cell_type": "code",
   "execution_count": 47,
   "id": "2627eaae",
   "metadata": {},
   "outputs": [],
   "source": [
    "import numpy as np\n",
    "Area = np.round(Area, 3)"
   ]
  },
  {
   "cell_type": "code",
   "execution_count": 48,
   "id": "f8aa85b6",
   "metadata": {},
   "outputs": [
    {
     "data": {
      "text/plain": [
       "Text(0.5, 0.4, '0.754')"
      ]
     },
     "execution_count": 48,
     "metadata": {},
     "output_type": "execute_result"
    },
    {
     "data": {
      "image/png": "[encoded data removed]",
      "text/plain": [
       "<Figure size 432x288 with 1 Axes>"
      ]
     },
     "metadata": {
      "needs_background": "light"
     },
     "output_type": "display_data"
    }
   ],
   "source": [
    "plt.plot(fpr, tpr )\n",
    "plt.xlabel(\"False Postive values\")\n",
    "plt.ylabel(\"True Negative values \")\n",
    "plt.title(\"AUROC curve on Credit Risk Data\")\n",
    "plt.grid()\n",
    "plt.text(x = .5 , y = .5 , s =\" AUROC is \")\n",
    "plt.text(x = .5 , y = .4 , s = Area)"
   ]
  },
  {
   "cell_type": "code",
   "execution_count": 49,
   "id": "484ba2f7",
   "metadata": {},
   "outputs": [],
   "source": [
    "#  problems statemet 2"
   ]
  },
  {
   "cell_type": "code",
   "execution_count": 50,
   "id": "ba1fffb9",
   "metadata": {},
   "outputs": [],
   "source": [
    "pred_prob_full  = glm.predict_proba(cr.iloc[: , 0: -1])"
   ]
  },
  {
   "cell_type": "code",
   "execution_count": 51,
   "id": "984bad5d",
   "metadata": {},
   "outputs": [],
   "source": [
    "pred_prob_full  = pd.DataFrame(pred_prob_full)"
   ]
  },
  {
   "cell_type": "code",
   "execution_count": 52,
   "id": "8d0289a0",
   "metadata": {},
   "outputs": [],
   "source": [
    "pred_prob_full  = pred_prob_full.rename(columns= {pred_prob_full.columns[0]  :'Prob0'  , \n",
    "                                                  pred_prob_full.columns[1]  : 'Prob1'})"
   ]
  },
  {
   "cell_type": "code",
   "execution_count": 54,
   "id": "f4c06d7a",
   "metadata": {},
   "outputs": [
    {
     "data": {
      "text/html": [
       "<div>\n",
       "<style scoped>\n",
       "    .dataframe tbody tr th:only-of-type {\n",
       "        vertical-align: middle;\n",
       "    }\n",
       "\n",
       "    .dataframe tbody tr th {\n",
       "        vertical-align: top;\n",
       "    }\n",
       "\n",
       "    .dataframe thead th {\n",
       "        text-align: right;\n",
       "    }\n",
       "</style>\n",
       "<table border=\"1\" class=\"dataframe\">\n",
       "  <thead>\n",
       "    <tr style=\"text-align: right;\">\n",
       "      <th></th>\n",
       "      <th>Loan_ID</th>\n",
       "      <th>Gender</th>\n",
       "      <th>Married</th>\n",
       "      <th>Dependents</th>\n",
       "      <th>Education</th>\n",
       "      <th>Self_Employed</th>\n",
       "      <th>ApplicantIncome</th>\n",
       "      <th>CoapplicantIncome</th>\n",
       "      <th>LoanAmount</th>\n",
       "      <th>Loan_Amount_Term</th>\n",
       "      <th>Credit_History</th>\n",
       "      <th>Property_Area</th>\n",
       "      <th>Loan_Status</th>\n",
       "    </tr>\n",
       "  </thead>\n",
       "  <tbody>\n",
       "    <tr>\n",
       "      <th>0</th>\n",
       "      <td>LP001002</td>\n",
       "      <td>Male</td>\n",
       "      <td>No</td>\n",
       "      <td>0.0</td>\n",
       "      <td>Graduate</td>\n",
       "      <td>No</td>\n",
       "      <td>5849</td>\n",
       "      <td>0.0</td>\n",
       "      <td>NaN</td>\n",
       "      <td>360.0</td>\n",
       "      <td>1.0</td>\n",
       "      <td>Urban</td>\n",
       "      <td>Y</td>\n",
       "    </tr>\n",
       "  </tbody>\n",
       "</table>\n",
       "</div>"
      ],
      "text/plain": [
       "    Loan_ID Gender Married  Dependents Education Self_Employed  \\\n",
       "0  LP001002   Male      No         0.0  Graduate            No   \n",
       "\n",
       "   ApplicantIncome  CoapplicantIncome  LoanAmount  Loan_Amount_Term  \\\n",
       "0             5849                0.0         NaN             360.0   \n",
       "\n",
       "   Credit_History Property_Area Loan_Status  \n",
       "0             1.0         Urban           Y  "
      ]
     },
     "execution_count": 54,
     "metadata": {},
     "output_type": "execute_result"
    }
   ],
   "source": [
    "cr = pd.read_csv(r\"D:\\Datasets\\CreditRisk.csv\")\n",
    "cr.head(1)"
   ]
  },
  {
   "cell_type": "code",
   "execution_count": 55,
   "id": "ac1253bd",
   "metadata": {},
   "outputs": [],
   "source": [
    "pred_prob_full['LoanIdCustomer']   = cr.Loan_ID"
   ]
  },
  {
   "cell_type": "code",
   "execution_count": 56,
   "id": "b3aa43bb",
   "metadata": {},
   "outputs": [
    {
     "data": {
      "text/html": [
       "<div>\n",
       "<style scoped>\n",
       "    .dataframe tbody tr th:only-of-type {\n",
       "        vertical-align: middle;\n",
       "    }\n",
       "\n",
       "    .dataframe tbody tr th {\n",
       "        vertical-align: top;\n",
       "    }\n",
       "\n",
       "    .dataframe thead th {\n",
       "        text-align: right;\n",
       "    }\n",
       "</style>\n",
       "<table border=\"1\" class=\"dataframe\">\n",
       "  <thead>\n",
       "    <tr style=\"text-align: right;\">\n",
       "      <th></th>\n",
       "      <th>Prob0</th>\n",
       "      <th>Prob1</th>\n",
       "      <th>LoanIdCustomer</th>\n",
       "    </tr>\n",
       "  </thead>\n",
       "  <tbody>\n",
       "    <tr>\n",
       "      <th>0</th>\n",
       "      <td>0.116293</td>\n",
       "      <td>0.883707</td>\n",
       "      <td>LP001002</td>\n",
       "    </tr>\n",
       "    <tr>\n",
       "      <th>1</th>\n",
       "      <td>0.203437</td>\n",
       "      <td>0.796563</td>\n",
       "      <td>LP001003</td>\n",
       "    </tr>\n",
       "    <tr>\n",
       "      <th>2</th>\n",
       "      <td>0.069636</td>\n",
       "      <td>0.930364</td>\n",
       "      <td>LP001005</td>\n",
       "    </tr>\n",
       "    <tr>\n",
       "      <th>3</th>\n",
       "      <td>0.121817</td>\n",
       "      <td>0.878183</td>\n",
       "      <td>LP001006</td>\n",
       "    </tr>\n",
       "    <tr>\n",
       "      <th>4</th>\n",
       "      <td>0.115683</td>\n",
       "      <td>0.884317</td>\n",
       "      <td>LP001008</td>\n",
       "    </tr>\n",
       "  </tbody>\n",
       "</table>\n",
       "</div>"
      ],
      "text/plain": [
       "      Prob0     Prob1 LoanIdCustomer\n",
       "0  0.116293  0.883707       LP001002\n",
       "1  0.203437  0.796563       LP001003\n",
       "2  0.069636  0.930364       LP001005\n",
       "3  0.121817  0.878183       LP001006\n",
       "4  0.115683  0.884317       LP001008"
      ]
     },
     "execution_count": 56,
     "metadata": {},
     "output_type": "execute_result"
    }
   ],
   "source": [
    "pred_prob_full.head()"
   ]
  },
  {
   "cell_type": "code",
   "execution_count": 57,
   "id": "33d8ab77",
   "metadata": {},
   "outputs": [
    {
     "data": {
      "text/html": [
       "<div>\n",
       "<style scoped>\n",
       "    .dataframe tbody tr th:only-of-type {\n",
       "        vertical-align: middle;\n",
       "    }\n",
       "\n",
       "    .dataframe tbody tr th {\n",
       "        vertical-align: top;\n",
       "    }\n",
       "\n",
       "    .dataframe thead th {\n",
       "        text-align: right;\n",
       "    }\n",
       "</style>\n",
       "<table border=\"1\" class=\"dataframe\">\n",
       "  <thead>\n",
       "    <tr style=\"text-align: right;\">\n",
       "      <th></th>\n",
       "      <th>Prob0</th>\n",
       "      <th>Prob1</th>\n",
       "      <th>LoanIdCustomer</th>\n",
       "    </tr>\n",
       "  </thead>\n",
       "  <tbody>\n",
       "    <tr>\n",
       "      <th>333</th>\n",
       "      <td>0.032330</td>\n",
       "      <td>0.967670</td>\n",
       "      <td>LP002101</td>\n",
       "    </tr>\n",
       "    <tr>\n",
       "      <th>164</th>\n",
       "      <td>0.037380</td>\n",
       "      <td>0.962620</td>\n",
       "      <td>LP001572</td>\n",
       "    </tr>\n",
       "    <tr>\n",
       "      <th>686</th>\n",
       "      <td>0.037958</td>\n",
       "      <td>0.962042</td>\n",
       "      <td>LP001375</td>\n",
       "    </tr>\n",
       "    <tr>\n",
       "      <th>14</th>\n",
       "      <td>0.042624</td>\n",
       "      <td>0.957376</td>\n",
       "      <td>LP001030</td>\n",
       "    </tr>\n",
       "    <tr>\n",
       "      <th>575</th>\n",
       "      <td>0.042738</td>\n",
       "      <td>0.957262</td>\n",
       "      <td>LP002868</td>\n",
       "    </tr>\n",
       "    <tr>\n",
       "      <th>...</th>\n",
       "      <td>...</td>\n",
       "      <td>...</td>\n",
       "      <td>...</td>\n",
       "    </tr>\n",
       "    <tr>\n",
       "      <th>696</th>\n",
       "      <td>0.814743</td>\n",
       "      <td>0.185257</td>\n",
       "      <td>LP001445</td>\n",
       "    </tr>\n",
       "    <tr>\n",
       "      <th>177</th>\n",
       "      <td>0.846783</td>\n",
       "      <td>0.153217</td>\n",
       "      <td>LP001610</td>\n",
       "    </tr>\n",
       "    <tr>\n",
       "      <th>925</th>\n",
       "      <td>0.861022</td>\n",
       "      <td>0.138978</td>\n",
       "      <td>LP002747</td>\n",
       "    </tr>\n",
       "    <tr>\n",
       "      <th>639</th>\n",
       "      <td>0.864389</td>\n",
       "      <td>0.135611</td>\n",
       "      <td>LP001153</td>\n",
       "    </tr>\n",
       "    <tr>\n",
       "      <th>600</th>\n",
       "      <td>0.900498</td>\n",
       "      <td>0.099502</td>\n",
       "      <td>LP002949</td>\n",
       "    </tr>\n",
       "  </tbody>\n",
       "</table>\n",
       "<p>981 rows × 3 columns</p>\n",
       "</div>"
      ],
      "text/plain": [
       "        Prob0     Prob1 LoanIdCustomer\n",
       "333  0.032330  0.967670       LP002101\n",
       "164  0.037380  0.962620       LP001572\n",
       "686  0.037958  0.962042       LP001375\n",
       "14   0.042624  0.957376       LP001030\n",
       "575  0.042738  0.957262       LP002868\n",
       "..        ...       ...            ...\n",
       "696  0.814743  0.185257       LP001445\n",
       "177  0.846783  0.153217       LP001610\n",
       "925  0.861022  0.138978       LP002747\n",
       "639  0.864389  0.135611       LP001153\n",
       "600  0.900498  0.099502       LP002949\n",
       "\n",
       "[981 rows x 3 columns]"
      ]
     },
     "execution_count": 57,
     "metadata": {},
     "output_type": "execute_result"
    }
   ],
   "source": [
    "pred_prob_full  =   pred_prob_full.sort_values('Prob1', ascending= False)\n",
    "pred_prob_full"
   ]
  },
  {
   "cell_type": "code",
   "execution_count": null,
   "id": "58682dcf",
   "metadata": {},
   "outputs": [],
   "source": []
  },
  {
   "cell_type": "code",
   "execution_count": null,
   "id": "c0ba546e",
   "metadata": {},
   "outputs": [],
   "source": []
  },
  {
   "cell_type": "code",
   "execution_count": null,
   "id": "a7f6a36b",
   "metadata": {},
   "outputs": [],
   "source": []
  },
  {
   "cell_type": "code",
   "execution_count": null,
   "id": "cbdb8dde",
   "metadata": {},
   "outputs": [],
   "source": []
  },
  {
   "cell_type": "code",
   "execution_count": null,
   "id": "af27b239",
   "metadata": {},
   "outputs": [],
   "source": []
  }
 ],
 "metadata": {
  "kernelspec": {
   "display_name": "Python 3 (ipykernel)",
   "language": "python",
   "name": "python3"
  },
  "language_info": {
   "codemirror_mode": {
    "name": "ipython",
    "version": 3
   },
   "file_extension": ".py",
   "mimetype": "text/x-python",
   "name": "python",
   "nbconvert_exporter": "python",
   "pygments_lexer": "ipython3",
   "version": "3.9.12"
  }
 },
 "nbformat": 4,
 "nbformat_minor": 5
}
