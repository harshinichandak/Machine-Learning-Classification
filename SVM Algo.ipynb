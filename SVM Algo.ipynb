{
 "cells": [
  {
   "cell_type": "code",
   "execution_count": 1,
   "id": "bd4d6afe",
   "metadata": {},
   "outputs": [],
   "source": [
    "import pandas as pd\n",
    "import numpy as np"
   ]
  },
  {
   "cell_type": "code",
   "execution_count": 2,
   "id": "dc144ef1",
   "metadata": {},
   "outputs": [],
   "source": [
    "sv = pd.read_csv(r'D:\\Datasets\\svmfile.csv')"
   ]
  },
  {
   "cell_type": "code",
   "execution_count": 3,
   "id": "3f2c51c0",
   "metadata": {},
   "outputs": [
    {
     "data": {
      "text/plain": [
       "age               0\n",
       "job               0\n",
       "marital           0\n",
       "education         0\n",
       "default           0\n",
       "housing           0\n",
       "loan              0\n",
       "contact           0\n",
       "month             0\n",
       "day_of_week       0\n",
       "duration          0\n",
       "campaign          0\n",
       "pdays             0\n",
       "previous          0\n",
       "poutcome          0\n",
       "emp.var.rate      0\n",
       "cons.price.idx    0\n",
       "cons.conf.idx     0\n",
       "euribor3m         0\n",
       "nr.employed       0\n",
       "y                 0\n",
       "dtype: int64"
      ]
     },
     "execution_count": 3,
     "metadata": {},
     "output_type": "execute_result"
    }
   ],
   "source": [
    "sv.isnull().sum()"
   ]
  },
  {
   "cell_type": "code",
   "execution_count": 4,
   "id": "5c71be09",
   "metadata": {},
   "outputs": [],
   "source": [
    "from sklearn.preprocessing import LabelEncoder\n",
    "le = LabelEncoder()"
   ]
  },
  {
   "cell_type": "code",
   "execution_count": 5,
   "id": "50d1041a",
   "metadata": {},
   "outputs": [],
   "source": [
    "sv.job = le.fit_transform(sv.job)\n",
    "sv.marital = le.fit_transform(sv.marital)\n",
    "sv.education = sv.education.replace({'illiterate':0, 'unknown':0, 'basic.4y':1, 'basic.6y':2,\n",
    "                                    'basic.9y':3, 'high.school':4, 'university.degree':5,\n",
    "                                    'professional.course':6})\n",
    "sv.default = sv.default.replace({'no':0, 'unknown':1,'yes':2 })\n",
    "sv.housing = sv.housing.replace({'no':0, 'unknown':1, 'yes':2 })\n",
    "sv.loan = sv.loan.replace({'no':0, 'unknown':1, 'yes':2})\n",
    "sv.contact = le.fit_transform(sv.contact)\n",
    "sv.month = sv.month.replace({'mar':3, 'apr':4, 'may':5, 'jun':6, 'jul':7,\n",
    "                            'aug':8, 'sep':9, 'oct':10, 'nov':11, 'dec':12})\n",
    "sv.day_of_week = sv.day_of_week.replace({'mon':0, 'tue':1, 'wed':2, 'thu':3, 'fri':4})\n",
    "sv.poutcome = sv.poutcome.replace({'nonexistent':0, 'failure':1, 'success':2})\n",
    "sv.y = sv.y.replace({'no':0, 'yes':1})"
   ]
  },
  {
   "cell_type": "code",
   "execution_count": 6,
   "id": "28501d32",
   "metadata": {},
   "outputs": [],
   "source": [
    "from sklearn.model_selection import train_test_split\n",
    "\n",
    "sv_train, sv_test = train_test_split(sv, test_size = .2, random_state = 123)"
   ]
  },
  {
   "cell_type": "code",
   "execution_count": 7,
   "id": "456e0e61",
   "metadata": {},
   "outputs": [],
   "source": [
    "df1 = sv_train[sv_train.y == 1]"
   ]
  },
  {
   "cell_type": "code",
   "execution_count": 8,
   "id": "e3654324",
   "metadata": {},
   "outputs": [],
   "source": [
    "sv_train = pd.concat([sv_train, df1])"
   ]
  },
  {
   "cell_type": "code",
   "execution_count": 9,
   "id": "8c19137d",
   "metadata": {},
   "outputs": [
    {
     "data": {
      "text/html": [
       "<div>\n",
       "<style scoped>\n",
       "    .dataframe tbody tr th:only-of-type {\n",
       "        vertical-align: middle;\n",
       "    }\n",
       "\n",
       "    .dataframe tbody tr th {\n",
       "        vertical-align: top;\n",
       "    }\n",
       "\n",
       "    .dataframe thead th {\n",
       "        text-align: right;\n",
       "    }\n",
       "</style>\n",
       "<table border=\"1\" class=\"dataframe\">\n",
       "  <thead>\n",
       "    <tr style=\"text-align: right;\">\n",
       "      <th></th>\n",
       "      <th>age</th>\n",
       "      <th>job</th>\n",
       "      <th>marital</th>\n",
       "      <th>education</th>\n",
       "      <th>default</th>\n",
       "      <th>housing</th>\n",
       "      <th>loan</th>\n",
       "      <th>contact</th>\n",
       "      <th>month</th>\n",
       "      <th>day_of_week</th>\n",
       "      <th>...</th>\n",
       "      <th>campaign</th>\n",
       "      <th>pdays</th>\n",
       "      <th>previous</th>\n",
       "      <th>poutcome</th>\n",
       "      <th>emp.var.rate</th>\n",
       "      <th>cons.price.idx</th>\n",
       "      <th>cons.conf.idx</th>\n",
       "      <th>euribor3m</th>\n",
       "      <th>nr.employed</th>\n",
       "      <th>y</th>\n",
       "    </tr>\n",
       "  </thead>\n",
       "  <tbody>\n",
       "    <tr>\n",
       "      <th>0</th>\n",
       "      <td>56</td>\n",
       "      <td>3</td>\n",
       "      <td>1</td>\n",
       "      <td>1</td>\n",
       "      <td>0</td>\n",
       "      <td>0</td>\n",
       "      <td>0</td>\n",
       "      <td>1</td>\n",
       "      <td>5</td>\n",
       "      <td>0</td>\n",
       "      <td>...</td>\n",
       "      <td>1</td>\n",
       "      <td>999</td>\n",
       "      <td>0</td>\n",
       "      <td>0</td>\n",
       "      <td>1.1</td>\n",
       "      <td>93.994</td>\n",
       "      <td>-36.4</td>\n",
       "      <td>4.857</td>\n",
       "      <td>5191.0</td>\n",
       "      <td>0</td>\n",
       "    </tr>\n",
       "    <tr>\n",
       "      <th>1</th>\n",
       "      <td>57</td>\n",
       "      <td>7</td>\n",
       "      <td>1</td>\n",
       "      <td>4</td>\n",
       "      <td>1</td>\n",
       "      <td>0</td>\n",
       "      <td>0</td>\n",
       "      <td>1</td>\n",
       "      <td>5</td>\n",
       "      <td>0</td>\n",
       "      <td>...</td>\n",
       "      <td>1</td>\n",
       "      <td>999</td>\n",
       "      <td>0</td>\n",
       "      <td>0</td>\n",
       "      <td>1.1</td>\n",
       "      <td>93.994</td>\n",
       "      <td>-36.4</td>\n",
       "      <td>4.857</td>\n",
       "      <td>5191.0</td>\n",
       "      <td>0</td>\n",
       "    </tr>\n",
       "    <tr>\n",
       "      <th>2</th>\n",
       "      <td>37</td>\n",
       "      <td>7</td>\n",
       "      <td>1</td>\n",
       "      <td>4</td>\n",
       "      <td>0</td>\n",
       "      <td>2</td>\n",
       "      <td>0</td>\n",
       "      <td>1</td>\n",
       "      <td>5</td>\n",
       "      <td>0</td>\n",
       "      <td>...</td>\n",
       "      <td>1</td>\n",
       "      <td>999</td>\n",
       "      <td>0</td>\n",
       "      <td>0</td>\n",
       "      <td>1.1</td>\n",
       "      <td>93.994</td>\n",
       "      <td>-36.4</td>\n",
       "      <td>4.857</td>\n",
       "      <td>5191.0</td>\n",
       "      <td>0</td>\n",
       "    </tr>\n",
       "    <tr>\n",
       "      <th>3</th>\n",
       "      <td>40</td>\n",
       "      <td>0</td>\n",
       "      <td>1</td>\n",
       "      <td>2</td>\n",
       "      <td>0</td>\n",
       "      <td>0</td>\n",
       "      <td>0</td>\n",
       "      <td>1</td>\n",
       "      <td>5</td>\n",
       "      <td>0</td>\n",
       "      <td>...</td>\n",
       "      <td>1</td>\n",
       "      <td>999</td>\n",
       "      <td>0</td>\n",
       "      <td>0</td>\n",
       "      <td>1.1</td>\n",
       "      <td>93.994</td>\n",
       "      <td>-36.4</td>\n",
       "      <td>4.857</td>\n",
       "      <td>5191.0</td>\n",
       "      <td>0</td>\n",
       "    </tr>\n",
       "    <tr>\n",
       "      <th>4</th>\n",
       "      <td>56</td>\n",
       "      <td>7</td>\n",
       "      <td>1</td>\n",
       "      <td>4</td>\n",
       "      <td>0</td>\n",
       "      <td>0</td>\n",
       "      <td>2</td>\n",
       "      <td>1</td>\n",
       "      <td>5</td>\n",
       "      <td>0</td>\n",
       "      <td>...</td>\n",
       "      <td>1</td>\n",
       "      <td>999</td>\n",
       "      <td>0</td>\n",
       "      <td>0</td>\n",
       "      <td>1.1</td>\n",
       "      <td>93.994</td>\n",
       "      <td>-36.4</td>\n",
       "      <td>4.857</td>\n",
       "      <td>5191.0</td>\n",
       "      <td>0</td>\n",
       "    </tr>\n",
       "  </tbody>\n",
       "</table>\n",
       "<p>5 rows × 21 columns</p>\n",
       "</div>"
      ],
      "text/plain": [
       "   age  job  marital  education  default  housing  loan  contact  month  \\\n",
       "0   56    3        1          1        0        0     0        1      5   \n",
       "1   57    7        1          4        1        0     0        1      5   \n",
       "2   37    7        1          4        0        2     0        1      5   \n",
       "3   40    0        1          2        0        0     0        1      5   \n",
       "4   56    7        1          4        0        0     2        1      5   \n",
       "\n",
       "   day_of_week  ...  campaign  pdays  previous  poutcome  emp.var.rate  \\\n",
       "0            0  ...         1    999         0         0           1.1   \n",
       "1            0  ...         1    999         0         0           1.1   \n",
       "2            0  ...         1    999         0         0           1.1   \n",
       "3            0  ...         1    999         0         0           1.1   \n",
       "4            0  ...         1    999         0         0           1.1   \n",
       "\n",
       "   cons.price.idx  cons.conf.idx  euribor3m  nr.employed  y  \n",
       "0          93.994          -36.4      4.857       5191.0  0  \n",
       "1          93.994          -36.4      4.857       5191.0  0  \n",
       "2          93.994          -36.4      4.857       5191.0  0  \n",
       "3          93.994          -36.4      4.857       5191.0  0  \n",
       "4          93.994          -36.4      4.857       5191.0  0  \n",
       "\n",
       "[5 rows x 21 columns]"
      ]
     },
     "execution_count": 9,
     "metadata": {},
     "output_type": "execute_result"
    }
   ],
   "source": [
    "sv.head()"
   ]
  },
  {
   "cell_type": "code",
   "execution_count": 10,
   "id": "f3afb493",
   "metadata": {},
   "outputs": [],
   "source": [
    "sv_train_x = sv_train.iloc[:, 0:-1]\n",
    "sv_train_y = sv_train.iloc[:, -1]"
   ]
  },
  {
   "cell_type": "code",
   "execution_count": 11,
   "id": "c6b567a0",
   "metadata": {},
   "outputs": [],
   "source": [
    "sv_test_x = sv_test.iloc[:, 0:-1]\n",
    "sv_test_y = sv_test.iloc[:, -1]"
   ]
  },
  {
   "cell_type": "code",
   "execution_count": 12,
   "id": "d5999309",
   "metadata": {},
   "outputs": [],
   "source": [
    "from sklearn.svm import SVC\n",
    "\n",
    "svm_ds = SVC(kernel = 'poly', degree = 5)"
   ]
  },
  {
   "cell_type": "code",
   "execution_count": 13,
   "id": "5ae821a9",
   "metadata": {},
   "outputs": [
    {
     "data": {
      "text/plain": [
       "SVC(degree=5, kernel='poly')"
      ]
     },
     "execution_count": 13,
     "metadata": {},
     "output_type": "execute_result"
    }
   ],
   "source": [
    "svm_ds.fit(sv_train_x, sv_train_y)"
   ]
  },
  {
   "cell_type": "code",
   "execution_count": 14,
   "id": "f8af16f7",
   "metadata": {},
   "outputs": [],
   "source": [
    "pred_svm = svm_ds.predict(sv_test_x)"
   ]
  },
  {
   "cell_type": "code",
   "execution_count": 15,
   "id": "deb11571",
   "metadata": {},
   "outputs": [],
   "source": [
    "from sklearn.metrics import confusion_matrix"
   ]
  },
  {
   "cell_type": "code",
   "execution_count": 16,
   "id": "665b8041",
   "metadata": {},
   "outputs": [
    {
     "data": {
      "text/plain": [
       "array([[6948,  350],\n",
       "       [ 409,  531]], dtype=int64)"
      ]
     },
     "execution_count": 16,
     "metadata": {},
     "output_type": "execute_result"
    }
   ],
   "source": [
    "tab_svm = confusion_matrix(sv_test_y, pred_svm)\n",
    "tab_svm"
   ]
  },
  {
   "cell_type": "code",
   "execution_count": 17,
   "id": "36b4677b",
   "metadata": {},
   "outputs": [
    {
     "data": {
      "text/plain": [
       "0.658753709198813"
      ]
     },
     "execution_count": 17,
     "metadata": {},
     "output_type": "execute_result"
    }
   ],
   "source": [
    "222 / (222 + 115)"
   ]
  },
  {
   "cell_type": "code",
   "execution_count": 18,
   "id": "04dd7278",
   "metadata": {},
   "outputs": [],
   "source": [
    "from sklearn.tree import DecisionTreeClassifier\n",
    "dt = DecisionTreeClassifier()"
   ]
  },
  {
   "cell_type": "code",
   "execution_count": 19,
   "id": "e561b19d",
   "metadata": {},
   "outputs": [
    {
     "data": {
      "text/plain": [
       "DecisionTreeClassifier()"
      ]
     },
     "execution_count": 19,
     "metadata": {},
     "output_type": "execute_result"
    }
   ],
   "source": [
    "dt.fit(sv_train_x, sv_train_y)"
   ]
  },
  {
   "cell_type": "code",
   "execution_count": 20,
   "id": "9239d3bc",
   "metadata": {},
   "outputs": [],
   "source": [
    "pred_dt = dt.predict(sv_test_x)"
   ]
  },
  {
   "cell_type": "code",
   "execution_count": 21,
   "id": "54e8261f",
   "metadata": {},
   "outputs": [
    {
     "data": {
      "text/plain": [
       "array([[6843,  455],\n",
       "       [ 447,  493]], dtype=int64)"
      ]
     },
     "execution_count": 21,
     "metadata": {},
     "output_type": "execute_result"
    }
   ],
   "source": [
    "tab_dt = confusion_matrix(sv_test_y, pred_dt)\n",
    "tab_dt"
   ]
  },
  {
   "cell_type": "code",
   "execution_count": 22,
   "id": "6906e59e",
   "metadata": {},
   "outputs": [
    {
     "data": {
      "text/plain": [
       "0.890507404709881"
      ]
     },
     "execution_count": 22,
     "metadata": {},
     "output_type": "execute_result"
    }
   ],
   "source": [
    "tab_dt.diagonal().sum()/tab_dt.sum()"
   ]
  },
  {
   "cell_type": "code",
   "execution_count": 23,
   "id": "bdb0ca21",
   "metadata": {},
   "outputs": [],
   "source": [
    "from sklearn.ensemble import AdaBoostClassifier"
   ]
  },
  {
   "cell_type": "code",
   "execution_count": 24,
   "id": "08fabe2c",
   "metadata": {},
   "outputs": [
    {
     "data": {
      "text/plain": [
       "array([[6825,  473],\n",
       "       [ 452,  488]], dtype=int64)"
      ]
     },
     "execution_count": 24,
     "metadata": {},
     "output_type": "execute_result"
    }
   ],
   "source": [
    "abc = AdaBoostClassifier(dt)\n",
    "abc.fit(sv_train_x, sv_train_y)\n",
    "pred_abc = abc.predict(sv_test_x)\n",
    "\n",
    "tab_abc = confusion_matrix(sv_test_y, pred_abc)\n",
    "tab_abc"
   ]
  },
  {
   "cell_type": "code",
   "execution_count": 25,
   "id": "747d871e",
   "metadata": {},
   "outputs": [
    {
     "data": {
      "text/plain": [
       "0.8877154649186696"
      ]
     },
     "execution_count": 25,
     "metadata": {},
     "output_type": "execute_result"
    }
   ],
   "source": [
    "tab_abc.diagonal().sum()/tab_abc.sum()"
   ]
  },
  {
   "cell_type": "code",
   "execution_count": null,
   "id": "fa863e65",
   "metadata": {},
   "outputs": [],
   "source": []
  }
 ],
 "metadata": {
  "kernelspec": {
   "display_name": "Python 3 (ipykernel)",
   "language": "python",
   "name": "python3"
  },
  "language_info": {
   "codemirror_mode": {
    "name": "ipython",
    "version": 3
   },
   "file_extension": ".py",
   "mimetype": "text/x-python",
   "name": "python",
   "nbconvert_exporter": "python",
   "pygments_lexer": "ipython3",
   "version": "3.9.12"
  }
 },
 "nbformat": 4,
 "nbformat_minor": 5
}
